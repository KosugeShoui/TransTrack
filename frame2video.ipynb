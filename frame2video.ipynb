{
 "cells": [
  {
   "cell_type": "markdown",
   "metadata": {},
   "source": [
    "## Attention Weight & Feature Map Visualization"
   ]
  },
  {
   "cell_type": "code",
   "execution_count": 2,
   "metadata": {},
   "outputs": [],
   "source": [
    "import cv2\n",
    "import os\n",
    "from IPython.display import Video, display\n",
    "from natsort import natsorted\n",
    "import matplotlib.pyplot as plt\n",
    "\n",
    "def create_video_from_frames(frame_folder, output_path, vis_name , fps=5):\n",
    "\n",
    "    # Get a list of frame filenames sorted by name that include vis_name\n",
    "    frames = natsorted([os.path.join(frame_folder, frame) for frame in os.listdir(frame_folder) if frame.endswith(('.png', '.jpg', '.jpeg')) and vis_name in frame])\n",
    "    print(frames)\n",
    "    if not frames:\n",
    "        raise ValueError(\"No frames found with the specified vis_name in the filenames.\")\n",
    "\n",
    "    # Read the first frame to get the dimensions\n",
    "    frame = cv2.imread(frames[0],)\n",
    "    height, width, layers = frame.shape\n",
    "    #frame = 1 - frame\n",
    "    frame = cv2.cvtColor(frame, cv2.COLOR_BGR2RGB)\n",
    "    #print(type(frame))\n",
    "    #plt.imshow(frame)\n",
    "    #plt.show()\n",
    "\n",
    "    # Define the codec and create a VideoWriter object\n",
    "    fourcc = cv2.VideoWriter_fourcc(*'mp4v')\n",
    "    video = cv2.VideoWriter(output_path, fourcc, fps, (width, height))\n",
    "\n",
    "    for frame in frames:\n",
    "        img = cv2.imread(frame)\n",
    "        video.write(img)\n",
    "\n",
    "    # Release the video writer object\n",
    "    video.release()\n",
    "\n"
   ]
  },
  {
   "cell_type": "code",
   "execution_count": 3,
   "metadata": {},
   "outputs": [
    {
     "name": "stdout",
     "output_type": "stream",
     "text": [
      "['w_eval_mem_jet_test_12/w_eval_encode_1.png', 'w_eval_mem_jet_test_12/w_eval_encode_2.png', 'w_eval_mem_jet_test_12/w_eval_encode_3.png', 'w_eval_mem_jet_test_12/w_eval_encode_4.png', 'w_eval_mem_jet_test_12/w_eval_encode_5.png', 'w_eval_mem_jet_test_12/w_eval_encode_6.png', 'w_eval_mem_jet_test_12/w_eval_encode_7.png', 'w_eval_mem_jet_test_12/w_eval_encode_8.png', 'w_eval_mem_jet_test_12/w_eval_encode_9.png', 'w_eval_mem_jet_test_12/w_eval_encode_10.png', 'w_eval_mem_jet_test_12/w_eval_encode_11.png', 'w_eval_mem_jet_test_12/w_eval_encode_12.png', 'w_eval_mem_jet_test_12/w_eval_encode_13.png', 'w_eval_mem_jet_test_12/w_eval_encode_14.png', 'w_eval_mem_jet_test_12/w_eval_encode_15.png', 'w_eval_mem_jet_test_12/w_eval_encode_16.png', 'w_eval_mem_jet_test_12/w_eval_encode_17.png', 'w_eval_mem_jet_test_12/w_eval_encode_18.png', 'w_eval_mem_jet_test_12/w_eval_encode_19.png', 'w_eval_mem_jet_test_12/w_eval_encode_20.png', 'w_eval_mem_jet_test_12/w_eval_encode_21.png', 'w_eval_mem_jet_test_12/w_eval_encode_22.png', 'w_eval_mem_jet_test_12/w_eval_encode_23.png', 'w_eval_mem_jet_test_12/w_eval_encode_24.png', 'w_eval_mem_jet_test_12/w_eval_encode_25.png', 'w_eval_mem_jet_test_12/w_eval_encode_26.png', 'w_eval_mem_jet_test_12/w_eval_encode_27.png', 'w_eval_mem_jet_test_12/w_eval_encode_28.png', 'w_eval_mem_jet_test_12/w_eval_encode_29.png', 'w_eval_mem_jet_test_12/w_eval_encode_30.png', 'w_eval_mem_jet_test_12/w_eval_encode_31.png', 'w_eval_mem_jet_test_12/w_eval_encode_32.png', 'w_eval_mem_jet_test_12/w_eval_encode_33.png', 'w_eval_mem_jet_test_12/w_eval_encode_34.png', 'w_eval_mem_jet_test_12/w_eval_encode_35.png', 'w_eval_mem_jet_test_12/w_eval_encode_36.png', 'w_eval_mem_jet_test_12/w_eval_encode_37.png', 'w_eval_mem_jet_test_12/w_eval_encode_38.png', 'w_eval_mem_jet_test_12/w_eval_encode_39.png', 'w_eval_mem_jet_test_12/w_eval_encode_40.png', 'w_eval_mem_jet_test_12/w_eval_encode_41.png', 'w_eval_mem_jet_test_12/w_eval_encode_42.png', 'w_eval_mem_jet_test_12/w_eval_encode_43.png', 'w_eval_mem_jet_test_12/w_eval_encode_44.png', 'w_eval_mem_jet_test_12/w_eval_encode_45.png', 'w_eval_mem_jet_test_12/w_eval_encode_46.png', 'w_eval_mem_jet_test_12/w_eval_encode_47.png', 'w_eval_mem_jet_test_12/w_eval_encode_48.png', 'w_eval_mem_jet_test_12/w_eval_encode_49.png', 'w_eval_mem_jet_test_12/w_eval_encode_50.png', 'w_eval_mem_jet_test_12/w_eval_encode_51.png', 'w_eval_mem_jet_test_12/w_eval_encode_52.png', 'w_eval_mem_jet_test_12/w_eval_encode_53.png', 'w_eval_mem_jet_test_12/w_eval_encode_54.png', 'w_eval_mem_jet_test_12/w_eval_encode_55.png', 'w_eval_mem_jet_test_12/w_eval_encode_56.png', 'w_eval_mem_jet_test_12/w_eval_encode_57.png', 'w_eval_mem_jet_test_12/w_eval_encode_58.png', 'w_eval_mem_jet_test_12/w_eval_encode_59.png', 'w_eval_mem_jet_test_12/w_eval_encode_60.png', 'w_eval_mem_jet_test_12/w_eval_encode_61.png', 'w_eval_mem_jet_test_12/w_eval_encode_62.png', 'w_eval_mem_jet_test_12/w_eval_encode_63.png', 'w_eval_mem_jet_test_12/w_eval_encode_64.png', 'w_eval_mem_jet_test_12/w_eval_encode_65.png', 'w_eval_mem_jet_test_12/w_eval_encode_66.png', 'w_eval_mem_jet_test_12/w_eval_encode_67.png', 'w_eval_mem_jet_test_12/w_eval_encode_68.png', 'w_eval_mem_jet_test_12/w_eval_encode_69.png', 'w_eval_mem_jet_test_12/w_eval_encode_70.png', 'w_eval_mem_jet_test_12/w_eval_encode_71.png', 'w_eval_mem_jet_test_12/w_eval_encode_72.png', 'w_eval_mem_jet_test_12/w_eval_encode_73.png', 'w_eval_mem_jet_test_12/w_eval_encode_74.png', 'w_eval_mem_jet_test_12/w_eval_encode_75.png', 'w_eval_mem_jet_test_12/w_eval_encode_76.png', 'w_eval_mem_jet_test_12/w_eval_encode_77.png', 'w_eval_mem_jet_test_12/w_eval_encode_78.png', 'w_eval_mem_jet_test_12/w_eval_encode_79.png', 'w_eval_mem_jet_test_12/w_eval_encode_80.png', 'w_eval_mem_jet_test_12/w_eval_encode_81.png', 'w_eval_mem_jet_test_12/w_eval_encode_82.png', 'w_eval_mem_jet_test_12/w_eval_encode_83.png', 'w_eval_mem_jet_test_12/w_eval_encode_84.png', 'w_eval_mem_jet_test_12/w_eval_encode_85.png', 'w_eval_mem_jet_test_12/w_eval_encode_86.png', 'w_eval_mem_jet_test_12/w_eval_encode_87.png', 'w_eval_mem_jet_test_12/w_eval_encode_88.png', 'w_eval_mem_jet_test_12/w_eval_encode_89.png', 'w_eval_mem_jet_test_12/w_eval_encode_90.png', 'w_eval_mem_jet_test_12/w_eval_encode_91.png', 'w_eval_mem_jet_test_12/w_eval_encode_92.png', 'w_eval_mem_jet_test_12/w_eval_encode_93.png', 'w_eval_mem_jet_test_12/w_eval_encode_94.png', 'w_eval_mem_jet_test_12/w_eval_encode_95.png', 'w_eval_mem_jet_test_12/w_eval_encode_96.png', 'w_eval_mem_jet_test_12/w_eval_encode_97.png', 'w_eval_mem_jet_test_12/w_eval_encode_98.png', 'w_eval_mem_jet_test_12/w_eval_encode_99.png', 'w_eval_mem_jet_test_12/w_eval_encode_100.png']\n"
     ]
    }
   ],
   "source": [
    "# Example usage\n",
    "frame_folder = 'w_eval_mem_jet_test_12'\n",
    "save_dir = 'w_output_video_jet'\n",
    "name_list = 'encode'\n",
    "vis_name = name_list\n",
    "os.makedirs(save_dir,exist_ok=True)\n",
    "output_path = os.path.join(save_dir,'memory_12_normal.mp4')\n",
    "create_video_from_frames(frame_folder, output_path, vis_name, fps=10)"
   ]
  }
 ],
 "metadata": {
  "kernelspec": {
   "display_name": "Python 3",
   "language": "python",
   "name": "python3"
  },
  "language_info": {
   "codemirror_mode": {
    "name": "ipython",
    "version": 3
   },
   "file_extension": ".py",
   "mimetype": "text/x-python",
   "name": "python",
   "nbconvert_exporter": "python",
   "pygments_lexer": "ipython3",
   "version": "3.8.10"
  }
 },
 "nbformat": 4,
 "nbformat_minor": 2
}

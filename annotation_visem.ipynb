{
 "cells": [
  {
   "cell_type": "code",
   "execution_count": 1,
   "metadata": {},
   "outputs": [],
   "source": [
    "import cv2\n",
    "import matplotlib.pyplot as plt \n",
    "import numpy\n",
    "import glob\n",
    "import os\n",
    "from tqdm.notebook import tqdm\n"
   ]
  },
  {
   "cell_type": "code",
   "execution_count": 8,
   "metadata": {},
   "outputs": [],
   "source": [
    "txt_file = './visem/test/24/gt/gt.txt'\n",
    "newfile = './visem/test/gt.txt'"
   ]
  },
  {
   "cell_type": "code",
   "execution_count": null,
   "metadata": {},
   "outputs": [],
   "source": [
    "def change_line(line1):\n",
    "    values = line1.split(',')\n",
    "    for i in range(-3, 0):\n",
    "        values[i] = '1'\n",
    "    new_line = ','.join(values)\n",
    "    return new_line\n",
    "\n",
    "with open(txt_file, 'r') as file:\n",
    "    for line in tqdm(file):\n",
    "        new_line = change_line(line)\n",
    "        print(new_line)\n",
    "        \n",
    "        with open(newfile, 'a') as file:\n",
    "            file.write(new_line + '\\n')"
   ]
  }
 ],
 "metadata": {
  "kernelspec": {
   "display_name": "Python 3 (ipykernel)",
   "language": "python",
   "name": "python3"
  },
  "language_info": {
   "codemirror_mode": {
    "name": "ipython",
    "version": 3
   },
   "file_extension": ".py",
   "mimetype": "text/x-python",
   "name": "python",
   "nbconvert_exporter": "python",
   "pygments_lexer": "ipython3",
   "version": "3.8.10"
  }
 },
 "nbformat": 4,
 "nbformat_minor": 2
}
